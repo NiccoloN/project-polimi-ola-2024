{
 "cells": [
  {
   "cell_type": "code",
   "execution_count": 665,
   "metadata": {},
   "source": [
    "import numpy as np\n",
    "import matplotlib.pyplot as plt\n",
    "#!pip install scipy\n",
    "from scipy import stats\n",
    "from scipy import optimize"
   ],
   "outputs": []
  },
  {
   "attachments": {},
   "cell_type": "markdown",
   "metadata": {},
   "source": [
    "# Learning in Repeated Advertising Auctions"
   ]
  },
  {
   "attachments": {},
   "cell_type": "markdown",
   "metadata": {},
   "source": [
    "## Click Visualization Model"
   ]
  },
  {
   "attachments": {},
   "cell_type": "markdown",
   "metadata": {},
   "source": [
    "### Important Quantities\n",
    "Given and ad $a$ and a slot $s$, each time $t$ a user arrives:\n",
    "- $\\lambda_s$: probability that the slot $s$ is observed by the user.\n",
    "- $q_a$: ad's *click-through-rate*, i.e., probability that the ad is clicked by user\n",
    "- $v_a$: ad's profit per click (e.g., expected profit from sale)"
   ]
  },
  {
   "attachments": {},
   "cell_type": "markdown",
   "metadata": {},
   "source": [
    "### Assumptions of this model:\n",
    "\n",
    "- All the quantities are **fixed** and don't vary with time.\n",
    "- Ad's CTR $q_a$ and profit-per-click $v_a$ don't depend on the slot.\n",
    "- Prominence $\\lambda_s$ pdoesn't depend on ad."
   ]
  },
  {
   "cell_type": "code",
   "execution_count": 666,
   "metadata": {},
   "source": [
    "class Auction:\n",
    "    def __init__(self, *args, **kwargs):\n",
    "        pass\n",
    "\n",
    "    def get_winners(self, bids):\n",
    "        pass\n",
    "\n",
    "    def get_payments_per_click(self, winners, values, bids):\n",
    "        pass\n",
    "\n",
    "    def round(self, bids):\n",
    "        winners, values = self.get_winners(bids) # allocation mechanism!\n",
    "        payments_per_click = self.get_payments_per_click(winners, values, bids)\n",
    "        return winners, payments_per_click\n"
   ],
   "outputs": []
  },
  {
   "attachments": {},
   "cell_type": "markdown",
   "metadata": {},
   "source": [
    "# Truthful Auctions"
   ]
  },
  {
   "attachments": {},
   "cell_type": "markdown",
   "metadata": {},
   "source": [
    "## Publisher's Perspective"
   ]
  },
  {
   "attachments": {},
   "cell_type": "markdown",
   "metadata": {},
   "source": [
    "### Single slot"
   ]
  },
  {
   "cell_type": "code",
   "execution_count": 667,
   "metadata": {},
   "source": [
    "class SecondPriceAuction(Auction):\n",
    "    def __init__(self, ctrs):\n",
    "        self.ctrs = ctrs\n",
    "        self.n_adv = len(self.ctrs)\n",
    "    \n",
    "    def get_winners(self, bids):\n",
    "        adv_values = self.ctrs*bids\n",
    "        adv_ranking = np.argsort(adv_values)\n",
    "        winner = adv_ranking[-1]\n",
    "        return winner, adv_values\n",
    "    \n",
    "    def get_payments_per_click(self, winners, values, bids):\n",
    "        adv_ranking = np.argsort(values)\n",
    "        second = adv_ranking[-2]\n",
    "        payment = values[second]/self.ctrs[winners]\n",
    "        return payment.round(2)"
   ],
   "outputs": []
  },
  {
   "cell_type": "code",
   "execution_count": 668,
   "metadata": {},
   "source": [
    "# advertisers' fixed parameters\n",
    "n_adv = 4 # four advertisers\n",
    "ctrs = np.array([0.8, 0.65, 0.50, 0.75])\n",
    "v = np.array([0.7, 1.1, 1.4, 0.85])\n",
    "\n",
    "# environmental settings\n",
    "n_users= 3\n",
    "\n",
    "auction = SecondPriceAuction(ctrs=ctrs)\n",
    "for u in range(n_user):\n",
    "    print(f'# User {u}')\n",
    "    bids = np.random.choice([0.25, 0.5, 0.75, 1], size=n_adv)\n",
    "    pub_values = bids*ctrs\n",
    "    print(f'Bids: {bids}, Publisher Values: {pub_values}')\n",
    "    winner, payment_per_click = auction.round(bids=bids)\n",
    "    print(f'Auction Winner: {winner}, Payment-per-click: {payment_per_click}')\n",
    "    print(f'Payment <= Bid : {payment_per_click <= bids[winner]}')\n"
   ],
   "outputs": []
  },
  {
   "attachments": {},
   "cell_type": "markdown",
   "metadata": {},
   "source": [
    "### Multiple Slots"
   ]
  },
  {
   "attachments": {},
   "cell_type": "markdown",
   "metadata": {},
   "source": [
    "#### WARNING: in Slide 17 of package 6.Auctions, there's a typo: the payment is $p_a = \\frac{Y_a-X_a}{\\lambda_{s(a)}q_a}$ (not $X_a-Y_a$!)"
   ]
  },
  {
   "cell_type": "code",
   "execution_count": 669,
   "metadata": {},
   "source": [
    "class VCGAuction(Auction):\n",
    "    def __init__(self, ctrs, lambdas):\n",
    "        self.ctrs = ctrs\n",
    "        self.lambdas = lambdas\n",
    "        self.n_adv = len(self.ctrs)\n",
    "        self.n_slots = len(self.lambdas)\n",
    "\n",
    "    def get_winners(self, bids):\n",
    "        adv_values = self.ctrs*bids\n",
    "        adv_ranking = np.argsort(adv_values)\n",
    "        winners = adv_ranking[-self.n_slots:]\n",
    "        winners_values = adv_values[winners]\n",
    "        return winners, winners_values\n",
    "    \n",
    "    def get_payments_per_click(self, winners, values, bids):\n",
    "        payments_per_click = np.zeros(self.n_slots)\n",
    "        for i,w in enumerate(winners):\n",
    "            Y = sum(np.delete(values, i)*self.lambdas[-self.n_slots+1:])\n",
    "            X = sum(np.delete(values*self.lambdas, i))\n",
    "            payments_per_click[i] = (Y-X)/(self.lambdas[i]*self.ctrs[w])\n",
    "        return payments_per_click.round(2)"
   ],
   "outputs": []
  },
  {
   "cell_type": "code",
   "execution_count": 670,
   "metadata": {},
   "source": [
    "# publisher's fixed parameters\n",
    "n_slots = 3\n",
    "lmbd = np.array([0.4, 0.6, 0.8]) # assumed to be decreasing\n",
    "\n",
    "# advertisers' fixed parameters\n",
    "n_adv = 4 # four advertisers\n",
    "ctrs = np.array([0.8, 0.65, 0.50, 0.75])\n",
    "v = np.array([0.7, 1.1, 1.4, 0.85])\n",
    "\n",
    "# environmental settings\n",
    "n_users= 10\n",
    "\n",
    "auction = VCGAuction(ctrs=ctrs, lambdas=lmbd)\n",
    "for u in range(n_user):\n",
    "    print(f'# User {u}')\n",
    "    bids = np.random.choice([0.25, 0.5, 0.75, 1], size=n_adv)\n",
    "    pub_values = bids*ctrs\n",
    "    print(f'Bids: {bids}, Publisher Values: {pub_values}')\n",
    "    winners, payments_per_click = auction.round(bids=bids)\n",
    "    print(f'Auction Winners: {winners}, Payment-per-click: {payments_per_click}')\n",
    "    print(f'Payment <= Bid : {(payments_per_click <= bids[winners]).all()}')\n"
   ],
   "outputs": []
  },
  {
   "attachments": {},
   "cell_type": "markdown",
   "metadata": {},
   "source": [
    "## Advertiser's Perspective: learning in repeated second price auctions"
   ]
  },
  {
   "attachments": {},
   "cell_type": "markdown",
   "metadata": {},
   "source": [
    "#### We will assume, from now on, that all CTRs are equal to 1."
   ]
  },
  {
   "attachments": {},
   "cell_type": "markdown",
   "metadata": {},
   "source": [
    "#### What is the best **and feasible** sequence of bids I can do? How much cumulative utility does a clairvoyant gain?"
   ]
  },
  {
   "cell_type": "code",
   "execution_count": 671,
   "metadata": {},
   "source": [
    "### Deterministic Bidders: my competitors always bid the same amount until budget depletion\n",
    "\n",
    "n_advertisers = 3\n",
    "n_users = 1000\n",
    "B = 50\n",
    "\n",
    "# simple scenario: competitors fix their bids\n",
    "other_bids = np.repeat(np.array([0.2,0.5,0.7]).reshape(-1,1), n_users, axis=1)\n",
    "## budget depletes after B/bid rounds\n",
    "other_bids[0,int(B/0.2):] = 0\n",
    "other_bids[1,int(B/0.5):] = 0\n",
    "other_bids[2,int(B/0.7):] = 0\n",
    "# easy scenario: I assume competitors to have the same budget as mine (they could have more in practica)\n",
    "# and that they behave greedily, always bidding until budget depletion\n",
    "\n",
    "m_t = other_bids.max(axis=0) ## highest bid at each round\n",
    "m_t[:150]"
   ],
   "outputs": []
  },
  {
   "attachments": {},
   "cell_type": "markdown",
   "metadata": {},
   "source": [
    "#### I know, for each round, what will be the highest bid. Now I have to solve an optimization problem and find out how to allocate my bids optimally."
   ]
  },
  {
   "cell_type": "code",
   "execution_count": 672,
   "metadata": {},
   "source": [
    "### As a re-usable function:\n",
    "def get_clairvoyant_truthful(B, my_valuation, m_t, n_users):\n",
    "    ## I compute my sequence of utilities at every round\n",
    "    utility = (my_valuation-m_t)*(my_valuation>=m_t)\n",
    "    ## Now I have to find the sequence of m_t summing up to budget B and having the maximum sum of utility\n",
    "    ## In second price auctions, I can find the sequence **greedily**:\n",
    "    sorted_round_utility = np.flip(np.argsort(utility)) # sorted rounds, from most profitable to less profitable\n",
    "    clairvoyant_utilities = np.zeros(n_users)\n",
    "    clairvoyant_bids= np.zeros(n_users)\n",
    "    clairvoyant_payments = np.zeros(n_users)\n",
    "    c = 0\n",
    "    i = 0\n",
    "    while c <= B-1 and i < n_users:\n",
    "        clairvoyant_bids[sorted_round_utility[i]] = 1\n",
    "        clairvoyant_utilities[sorted_round_utility[i]] = utility[sorted_round_utility[i]]\n",
    "        clairvoyant_payments[sorted_round_utility[i]] = m_t[sorted_round_utility[i]]\n",
    "        c += m_t[sorted_round_utility[i]]\n",
    "        i+=1\n",
    "    return clairvoyant_bids, clairvoyant_utilities, clairvoyant_payments"
   ],
   "outputs": []
  },
  {
   "cell_type": "code",
   "execution_count": 673,
   "metadata": {},
   "source": [
    "B = 50\n",
    "ctr = 1\n",
    "value_per_click = 0.8\n",
    "my_valuation = ctr*value_per_click\n",
    "\n",
    "clairvoyant_bids, clairvoyant_utilities, clairvoyant_payments = get_clairvoyant_truthful(B, my_valuation, m_t, n_users)\n",
    "\n",
    "plt.title('Clairvoyant Cumulative Payment')\n",
    "plt.plot(np.cumsum(clairvoyant_payments))\n",
    "plt.axhline(B, color='red', linestyle='--', label='Budget')\n",
    "plt.legend()\n",
    "plt.xlabel('$t$')\n",
    "plt.ylabel('$\\sum m_t~ 1_{b_t > m_t}$')\n",
    "plt.show();"
   ],
   "outputs": []
  },
  {
   "attachments": {},
   "cell_type": "markdown",
   "metadata": {},
   "source": [
    "#### The optimal policy makes the other bidders deplete their budgets first, and then exploits the auction as a unique bidder!"
   ]
  },
  {
   "cell_type": "code",
   "execution_count": 674,
   "metadata": {},
   "source": [
    "### Stochastic Bidders: my competitors sample their bids from \n",
    "### probability distributions\n",
    "\n",
    "n_advertisers = 3\n",
    "n_users = 1000\n",
    "B = 50\n",
    "\n",
    "# simple scenario: competitors sample bids from a uniform \n",
    "other_bids = np.random.uniform(0, 10*B/n_users, size = (n_advertisers, n_users))\n",
    "# I assume that competitors may have a larger budget than mine (10*B), but they may\n",
    "# not deplete it."
   ],
   "outputs": []
  },
  {
   "cell_type": "code",
   "execution_count": 675,
   "metadata": {},
   "source": [
    "m_t = other_bids.max(axis=0) ### maximum bid at every round, NOT IN EXPECTATION\n",
    "m_t[:10]"
   ],
   "outputs": []
  },
  {
   "attachments": {},
   "cell_type": "markdown",
   "metadata": {},
   "source": [
    "#### I can, again, use the greedy strategy for find the clairvoyant's bids and utilities"
   ]
  },
  {
   "cell_type": "code",
   "execution_count": 676,
   "metadata": {},
   "source": [
    "B = 50\n",
    "my_valuation = 0.8\n",
    "\n",
    "clairvoyant_bids, clairvoyant_utilities, clairvoyant_payments = get_clairvoyant_truthful(B, my_valuation, m_t, n_users)\n",
    "\n",
    "plt.title('Clairvoyant Cumulative Payment')\n",
    "plt.plot(np.cumsum(clairvoyant_payments))\n",
    "plt.axhline(B, color='red', linestyle='--', label='Budget')\n",
    "plt.legend()\n",
    "plt.xlabel('$t$')\n",
    "plt.ylabel('$\\sum m_t~ 1_{b_t > m_t}$')\n",
    "plt.show();"
   ],
   "outputs": []
  },
  {
   "attachments": {},
   "cell_type": "markdown",
   "metadata": {},
   "source": [
    "#### What agent can I design without knowing all the information a priori?"
   ]
  },
  {
   "attachments": {},
   "cell_type": "markdown",
   "metadata": {},
   "source": [
    "### Budget Pacing"
   ]
  },
  {
   "cell_type": "code",
   "execution_count": 677,
   "metadata": {},
   "source": [
    "class MultiplicativePacingAgent:\n",
    "    def __init__(self, valuation, budget, T, eta):\n",
    "        self.valuation = valuation\n",
    "        self.budget = budget\n",
    "        self.eta = eta\n",
    "        self.T = T\n",
    "        self.rho = self.budget/self.T\n",
    "        self.lmbd = 1\n",
    "        self.t = 0\n",
    "\n",
    "    def bid(self):\n",
    "        if self.budget < 1:\n",
    "            return 0\n",
    "        return self.valuation/(self.lmbd+1)\n",
    "    \n",
    "    def update(self, f_t, c_t):\n",
    "        self.lmbd = np.clip(self.lmbd-self.eta*(self.rho-c_t), \n",
    "                            a_min=0, a_max=1/self.rho)\n",
    "        self.budget -= c_t"
   ],
   "outputs": []
  },
  {
   "cell_type": "code",
   "execution_count": 678,
   "metadata": {},
   "source": [
    "# advertisers' fixed parameters\n",
    "## we assume that our agent has the FIRST index, e.g. our q_a*v_a = 0.56\n",
    "n_advertisers = 4 # four advertisers, including myself\n",
    "ctrs = np.ones(n_advertisers)\n",
    "my_valuation = 0.8\n",
    "B = 150\n",
    "\n",
    "# environmental settings\n",
    "n_users = 1000\n",
    "\n",
    "# competitors\n",
    "other_bids = np.random.uniform(0, 1, size = (n_advertisers-1, n_users))\n",
    "m_t = other_bids.max(axis=0)\n",
    "## I'm considering competitors stronger than me, since they are free to exceed my budget\n",
    "\n",
    "clairvoyant_bids, clairvoyant_utilities, clairvoyant_payments = get_clairvoyant_truthful(B, my_valuation, m_t, n_users)"
   ],
   "outputs": []
  },
  {
   "cell_type": "code",
   "execution_count": 679,
   "metadata": {},
   "source": [
    "eta = 1/np.sqrt(n_users) # from theory\n",
    "agent = MultiplicativePacingAgent(valuation=my_valuation,\n",
    "                                  budget=B,\n",
    "                                  T=n_users, \n",
    "                                  eta=eta)\n",
    "\n",
    "auction = SecondPriceAuction(ctrs)\n",
    "\n",
    "utilities = np.array([])\n",
    "my_bids = np.array([])\n",
    "my_payments = np.array([])\n",
    "total_wins = 0\n",
    "\n",
    "np.random.seed(18)\n",
    "for u in range(n_users):\n",
    "    # interaction\n",
    "    my_bid = agent.bid()\n",
    "    bids = np.append(my_bid, other_bids[:, u].ravel())\n",
    "    winners, payments_per_click = auction.round(bids=bids)\n",
    "    my_win = int(winners==0)\n",
    "    f_t, c_t = (my_valuation-m_t[u])*my_win, m_t[u]*my_win\n",
    "    agent.update(f_t, c_t)\n",
    "    # logging\n",
    "    utilities = np.append(utilities, f_t)\n",
    "    my_bids = np.append(my_bids, my_bid)\n",
    "    my_payments = np.append(my_payments, c_t)\n",
    "    total_wins+=my_win\n",
    "print(f'Total # of Wins: {total_wins}')"
   ],
   "outputs": []
  },
  {
   "cell_type": "code",
   "execution_count": 680,
   "metadata": {},
   "source": [
    "plt.plot(my_bids)\n",
    "plt.xlabel('$t$')\n",
    "plt.ylabel('$b_t$')\n",
    "plt.title('Chosen Bids')\n",
    "plt.show()"
   ],
   "outputs": []
  },
  {
   "cell_type": "code",
   "execution_count": 681,
   "metadata": {},
   "source": [
    "cumulative_payments = np.cumsum(my_payments)\n",
    "plt.plot(cumulative_payments)\n",
    "plt.xlabel('$t$')\n",
    "plt.ylabel('$\\sum c_t$')\n",
    "plt.axhline(B, color='red', label='Budget')\n",
    "plt.legend()\n",
    "plt.title('Cumulative Payments of Multiplicative Pacing')\n",
    "plt.show()"
   ],
   "outputs": []
  },
  {
   "cell_type": "code",
   "execution_count": 682,
   "metadata": {},
   "source": [
    "cumulative_regret = np.cumsum(clairvoyant_utilities-utilities)\n",
    "plt.plot(cumulative_regret)\n",
    "plt.xlabel('$t$')\n",
    "plt.ylabel('$\\sum f_t$')\n",
    "plt.title('Cumulative Regret of Multiplicative Pacing')\n",
    "plt.show()"
   ],
   "outputs": []
  },
  {
   "attachments": {},
   "cell_type": "markdown",
   "metadata": {},
   "source": [
    "# Non-Truthful Auctions"
   ]
  },
  {
   "attachments": {},
   "cell_type": "markdown",
   "metadata": {},
   "source": [
    "#### In non-truthful auctions, we additionally assume that the **bids are discretized in a finite set**."
   ]
  },
  {
   "attachments": {},
   "cell_type": "markdown",
   "metadata": {},
   "source": [
    "## Publisher's Perspective"
   ]
  },
  {
   "attachments": {},
   "cell_type": "markdown",
   "metadata": {},
   "source": [
    "### Single Slot"
   ]
  },
  {
   "cell_type": "code",
   "execution_count": 683,
   "metadata": {},
   "source": [
    "class FirstPriceAuction(Auction):\n",
    "    def __init__(self, ctrs):\n",
    "        self.ctrs = ctrs\n",
    "        self.n_adv = len(self.ctrs)\n",
    "    \n",
    "    def get_winners(self, bids):\n",
    "        adv_values = self.ctrs*bids\n",
    "        adv_ranking = np.argsort(adv_values)\n",
    "        winner = adv_ranking[-1]\n",
    "        return winner, adv_values\n",
    "    \n",
    "    def get_payments_per_click(self, winners, values, bids):\n",
    "        payment = bids[winners]\n",
    "        return payment.round(2)"
   ],
   "outputs": []
  },
  {
   "cell_type": "code",
   "execution_count": 684,
   "metadata": {},
   "source": [
    "# advertisers' fixed parameters\n",
    "n_adv = 4 # four advertisers\n",
    "ctrs = np.array([0.8, 0.65, 0.50, 0.75])\n",
    "v = np.array([0.7, 1.1, 1.4, 0.85])\n",
    "\n",
    "# environmental settings\n",
    "n_users= 3\n",
    "\n",
    "auction = FirstPriceAuction(ctrs=ctrs)\n",
    "for u in range(n_users):\n",
    "    print(f'# User {u}')\n",
    "    bids = np.random.choice([0.25, 0.5, 0.75, 1], size=n_adv)\n",
    "    pub_values = bids*ctrs\n",
    "    print(f'Bids: {bids}, Publisher Values: {pub_values}')\n",
    "    winner, payment_per_click = auction.round(bids=bids)\n",
    "    print(f'Auction Winner: {winner}, Payment-per-click: {payment_per_click}')\n",
    "    print(f'Payment == Bid : {payment_per_click == bids[winner]}')\n"
   ],
   "outputs": []
  },
  {
   "attachments": {},
   "cell_type": "markdown",
   "metadata": {},
   "source": [
    "## Advertiser's Perspective: learning in repeated first price auctions"
   ]
  },
  {
   "attachments": {},
   "cell_type": "markdown",
   "metadata": {},
   "source": [
    "#### We assume from now on that all CTRs are equal to 1"
   ]
  },
  {
   "attachments": {},
   "cell_type": "markdown",
   "metadata": {},
   "source": [
    "#### What is the best **and feasible** sequence of bids I can do? How much cumulative utility does a clairvoyant gain?"
   ]
  },
  {
   "cell_type": "code",
   "execution_count": 685,
   "metadata": {},
   "source": [
    "### Stochastic Bidders: my competitors sample their bids from \n",
    "### probability distributions\n",
    "\n",
    "n_advertisers = 3\n",
    "n_users = 1000\n",
    "B = 50\n",
    "my_valuation = 0.6\n",
    "rho = B/n_users\n",
    "\n",
    "# simple scenario: competitors sample bids from a uniform \n",
    "other_bids = np.random.uniform(0, 1, size = (n_advertisers, n_users))\n",
    "# I assume that competitors may have a larger budget than mine, but they may\n",
    "# not deplete it.\n",
    "m_t = other_bids.max(axis=0)"
   ],
   "outputs": []
  },
  {
   "attachments": {},
   "cell_type": "markdown",
   "metadata": {},
   "source": [
    "#### We are in a **stochastic** environment, thus we can use a notion of clairvoyant in **expectation**, i.e., the clairvoyant doesn't know all the actual bids but their distributions only. This clairvoyant is weaker than the one presented for truthful auctions. However, it is allowed to exceed budget (it only satisfies the budget constraint in expectation).\n",
    "\n",
    "#### This is our optimization problem for the stochastic setting:\n",
    "$$ maximize~~~ \\sum_b \\gamma(b)(v - b)\\mathbb{P}_m(b \\ge m) ~~~ s.t. \\sum_b b \\gamma(b) \\mathbb{P}_m(b \\ge m) \\le \\rho,$$\n",
    "#### where $\\gamma(b)$ is the probability of bidding $b$. This is a Linear Program! (LP)"
   ]
  },
  {
   "cell_type": "code",
   "execution_count": 686,
   "metadata": {},
   "source": [
    "### the maximum among k uniformly distributed r.v.s is a beta r.v. with alpha=k and beta=1\n",
    "available_bids = np.linspace(0,1,11)\n",
    "win_probabilities = stats.beta.cdf(available_bids, n_advertisers, 1)"
   ],
   "outputs": []
  },
  {
   "cell_type": "code",
   "execution_count": 687,
   "metadata": {},
   "source": [
    "## Linear Program\n",
    "c = -(my_valuation-available_bids)*win_probabilities\n",
    "A_ub = [available_bids*win_probabilities]\n",
    "b_ub = [rho]\n",
    "A_eq = [np.ones(len(available_bids))]\n",
    "b_eq = [1]\n",
    "res = optimize.linprog(c, A_ub=A_ub, b_ub=b_ub, A_eq=A_eq, b_eq=b_eq, bounds=(0,1))\n",
    "gamma = res.x\n",
    "expected_clairvoyant_utilities = [-res.fun for u in range(n_users)]\n",
    "expected_clairvoyant_bids = [sum(available_bids*gamma*win_probabilities) for u in range(n_users)]"
   ],
   "outputs": []
  },
  {
   "attachments": {},
   "cell_type": "markdown",
   "metadata": {},
   "source": [
    "#### Reference on maximum of k uniform r.v.s in [a,b]: https://stats.stackexchange.com/questions/466137/expected-value-of-maximum-of-uniform-random-variables"
   ]
  },
  {
   "attachments": {},
   "cell_type": "markdown",
   "metadata": {},
   "source": [
    "#### Reference on LPs in Python: https://docs.scipy.org/doc/scipy/reference/generated/scipy.optimize.linprog.html\n"
   ]
  },
  {
   "attachments": {},
   "cell_type": "markdown",
   "metadata": {},
   "source": [
    "#### In adversarial settings the baseline is weaker, and resembles the best-arm in hindsight for adversarial bandits"
   ]
  },
  {
   "cell_type": "code",
   "execution_count": 688,
   "metadata": {},
   "source": [
    "### Adversarial Bidders\n",
    "\n",
    "n_advertisers = 3\n",
    "n_users = 1000\n",
    "B = 50\n",
    "\n",
    "# non-trivial scenario: competitors sample bids from a uniform with range varying over time\n",
    "pattern = lambda t: 1-np.abs(np.sin(5*t/n_users))\n",
    "other_bids = np.array([np.random.uniform(0, pattern(t), size = n_advertisers) for t in range(n_users)]).T\n",
    "# I assume that competitors may have a larger budget than mine, but they may\n",
    "# not deplete it.\n",
    "\n",
    "m_t = other_bids.max(axis=0)\n",
    "\n",
    "plt.plot(m_t)\n",
    "plt.title('Expected maximum bid')\n",
    "plt.xlabel('$t$')\n",
    "plt.ylabel('$m_t$')\n",
    "plt.show()"
   ],
   "outputs": []
  },
  {
   "attachments": {},
   "cell_type": "markdown",
   "metadata": {},
   "source": [
    "#### Adversarial baseline:\n",
    "$$ maximize~~~ \\sum_b \\gamma(b)(v - b)\\bar{\\mathbb{P}}_m(b \\ge m) ~~~ s.t. \\sum_b b \\gamma(b) \\bar{\\mathbb{P}}_m(b \\ge m) \\le \\rho,$$\n",
    "#### where $\\gamma(b)$ is the probability of bidding $b$ and $\\bar{\\mathbb{P}}_m(b \\ge m)$ is the empirical win probability over all rounds. This is a Linear Program! (LP)"
   ]
  },
  {
   "cell_type": "code",
   "execution_count": 689,
   "metadata": {},
   "source": [
    "available_bids = np.linspace(0,1,11)\n",
    "win_probabilities = np.array([sum(b > m_t)/n_users for b in available_bids])"
   ],
   "outputs": []
  },
  {
   "cell_type": "code",
   "execution_count": 690,
   "metadata": {},
   "source": [
    "## Linear Program\n",
    "c = -(my_valuation-available_bids)*win_probabilities\n",
    "A_ub = [available_bids*win_probabilities]\n",
    "b_ub = [rho]\n",
    "A_eq = [np.ones(len(available_bids))]\n",
    "b_eq = [1]\n",
    "res = optimize.linprog(c, A_ub=A_ub, b_ub=b_ub, A_eq=A_eq, b_eq=b_eq, bounds=(0,1))\n",
    "gamma = res.x\n",
    "expected_clairvoyant_utilities = [-res.fun for u in range(n_users)]\n",
    "expected_clairvoyant_bids = [sum(available_bids*gamma*win_probabilities) for u in range(n_users)]"
   ],
   "outputs": []
  },
  {
   "attachments": {},
   "cell_type": "markdown",
   "metadata": {},
   "source": [
    "### Generalized Multiplicative Pacing for Non-Truthful Auctions"
   ]
  },
  {
   "attachments": {},
   "cell_type": "markdown",
   "metadata": {},
   "source": [
    "#### Here, we will assume a **full-feedback** setting. In auctions, full-feedback is equivalent of knowing the maximum bid $m_t$ that won the auction (of course, **after** the auction). Moreover, bids will be **discretized** into a finite set of actions."
   ]
  },
  {
   "attachments": {},
   "cell_type": "markdown",
   "metadata": {},
   "source": [
    "#### We will leverage a full-feedback, adversarial learner such as Hedge (see Lab 2)."
   ]
  },
  {
   "cell_type": "code",
   "execution_count": 691,
   "metadata": {},
   "source": [
    "class HedgeAgent:\n",
    "    def __init__(self, K, learning_rate):\n",
    "        self.K = K\n",
    "        self.learning_rate = learning_rate\n",
    "        self.weights = np.ones(K)\n",
    "        self.x_t = np.ones(K)/K\n",
    "        self.a_t = None\n",
    "        self.t = 0\n",
    "\n",
    "    def pull_arm(self):\n",
    "        self.x_t = self.weights/sum(self.weights)\n",
    "        self.a_t = np.random.choice(np.arange(self.K), p=self.x_t)\n",
    "        return self.a_t\n",
    "    \n",
    "    def update(self, l_t):\n",
    "        self.weights *= np.exp(-self.learning_rate*l_t)\n",
    "        self.t += 1"
   ],
   "outputs": []
  },
  {
   "cell_type": "code",
   "execution_count": 692,
   "metadata": {},
   "source": [
    "class FFMultiplicativePacingAgent:\n",
    "    def __init__(self, bids_set, valuation, budget, T, eta):\n",
    "        self.bids_set = bids_set\n",
    "        self.K = len(bids_set)\n",
    "        self.hedge = HedgeAgent(self.K, np.sqrt(np.log(self.K)/T))\n",
    "        self.valuation = valuation\n",
    "        self.budget = budget\n",
    "        self.eta = eta\n",
    "        self.T = T\n",
    "        self.rho = self.budget/self.T\n",
    "        self.lmbd = 1\n",
    "        self.t = 0\n",
    "\n",
    "    def bid(self):\n",
    "        if self.budget < 1:\n",
    "            return 0\n",
    "        return self.bids_set[self.hedge.pull_arm()]\n",
    "    \n",
    "    def update(self, f_t, c_t, m_t):\n",
    "        # update hedge\n",
    "        f_t_full = np.array([(self.valuation-b)*int(b >= m_t) for b in self.bids_set])\n",
    "        c_t_full = np.array([b*int(b >= m_t) for b in self.bids_set])\n",
    "        L = f_t_full - self.lmbd*(c_t_full-self.rho)\n",
    "        range_L = 2+(1-self.rho)/self.rho\n",
    "        self.hedge.update((2-L)/range_L) # hedge needs losses in [0,1]\n",
    "        # update lagrangian multiplier\n",
    "        self.lmbd = np.clip(self.lmbd-self.eta*(self.rho-c_t), \n",
    "                            a_min=0, a_max=1/self.rho)\n",
    "        # update budget\n",
    "        self.budget -= c_t"
   ],
   "outputs": []
  },
  {
   "attachments": {},
   "cell_type": "markdown",
   "metadata": {},
   "source": [
    "#### Let's try it in a stochastic environment"
   ]
  },
  {
   "attachments": {},
   "cell_type": "markdown",
   "metadata": {},
   "source": [
    "#### Setting:"
   ]
  },
  {
   "cell_type": "code",
   "execution_count": 693,
   "metadata": {},
   "source": [
    "### Stochastic Bidders: my competitors sample their bids from \n",
    "### probability distributions\n",
    "\n",
    "n_advertisers = 3\n",
    "n_users = 5000\n",
    "B = 300\n",
    "my_valuation = 0.6\n",
    "rho = B/n_users\n",
    "\n",
    "# simple scenario: competitors sample bids from a uniform \n",
    "other_bids = np.random.uniform(0, 1, size = (n_advertisers, n_users))\n",
    "# I assume that competitors may have a larger budget than mine, but they may\n",
    "# not deplete it.\n",
    "m_t = other_bids.max(axis=0)\n",
    "\n",
    "### the maximum among k uniformly distributed r.v.s is a beta r.v. with alpha=k and beta=1\n",
    "available_bids = np.linspace(0,1,11)\n",
    "win_probabilities = stats.beta.cdf(available_bids, n_advertisers, 1)\n",
    "\n",
    "## Linear Program\n",
    "c = -(my_valuation-available_bids)*win_probabilities\n",
    "A_ub = [available_bids*win_probabilities]\n",
    "b_ub = [rho]\n",
    "A_eq = [np.ones(len(available_bids))]\n",
    "b_eq = [1]\n",
    "res = optimize.linprog(c, A_ub=A_ub, b_ub=b_ub, A_eq=A_eq, b_eq=b_eq, bounds=(0,1))\n",
    "gamma = res.x\n",
    "expected_clairvoyant_utilities = [-res.fun for u in range(n_users)]\n",
    "expected_clairvoyant_bids = [sum(available_bids*gamma*win_probabilities) for u in range(n_users)]"
   ],
   "outputs": []
  },
  {
   "attachments": {},
   "cell_type": "markdown",
   "metadata": {},
   "source": [
    "#### Trial:"
   ]
  },
  {
   "cell_type": "code",
   "execution_count": 694,
   "metadata": {},
   "source": [
    "eta = 1/np.sqrt(n_users) # from theory\n",
    "agent = FFMultiplicativePacingAgent(bids_set = available_bids, \n",
    "                                    valuation=my_valuation,\n",
    "                                    budget=B,\n",
    "                                    T=n_users, \n",
    "                                    eta=eta)\n",
    "\n",
    "auction = FirstPriceAuction(np.ones(n_advertisers+1))\n",
    "\n",
    "utilities = np.array([])\n",
    "my_bids = np.array([])\n",
    "my_payments = np.array([])\n",
    "total_wins = 0\n",
    "\n",
    "np.random.seed(1)\n",
    "for u in range(n_users):\n",
    "    # interaction\n",
    "    my_bid = agent.bid()\n",
    "    bids = np.append(my_bid, other_bids[:, u].ravel())\n",
    "    winners, payments_per_click = auction.round(bids=bids)\n",
    "    my_win = int(winners==0)\n",
    "    f_t, c_t = (my_valuation-m_t[u])*my_win, m_t[u]*my_win\n",
    "    agent.update(f_t, c_t, m_t[u])\n",
    "    # logging\n",
    "    utilities = np.append(utilities, f_t)\n",
    "    my_bids = np.append(my_bids, my_bid)\n",
    "    my_payments = np.append(my_payments, c_t)\n",
    "    total_wins+=my_win\n",
    "print(f'Total # of Wins: {total_wins}')"
   ],
   "outputs": []
  },
  {
   "cell_type": "code",
   "execution_count": 695,
   "metadata": {},
   "source": [
    "plt.plot(my_bids)\n",
    "plt.xlabel('$t$')\n",
    "plt.ylabel('$b_t$')\n",
    "plt.title('Chosen Bids')\n",
    "plt.show()"
   ],
   "outputs": []
  },
  {
   "cell_type": "code",
   "execution_count": 696,
   "metadata": {},
   "source": [
    "cumulative_payments = np.cumsum(my_payments)\n",
    "plt.plot(cumulative_payments)\n",
    "plt.xlabel('$t$')\n",
    "plt.ylabel('$\\sum c_t$')\n",
    "plt.axhline(B, color='red', label='Budget')\n",
    "plt.legend()\n",
    "plt.title('Cumulative Payments of Multiplicative Pacing')\n",
    "plt.show()"
   ],
   "outputs": []
  },
  {
   "cell_type": "code",
   "execution_count": 697,
   "metadata": {},
   "source": [
    "cumulative_regret = np.cumsum(expected_clairvoyant_utilities-utilities)\n",
    "plt.plot(cumulative_regret)\n",
    "plt.xlabel('$t$')\n",
    "plt.ylabel('$\\sum R_t$')\n",
    "plt.title('Cumulative Regret of Multiplicative Pacing')\n",
    "plt.show()"
   ],
   "outputs": []
  },
  {
   "attachments": {},
   "cell_type": "markdown",
   "metadata": {},
   "source": [
    "#### We need multiple rounds for a proper estimation"
   ]
  },
  {
   "cell_type": "code",
   "execution_count": 698,
   "metadata": {},
   "source": [
    "n_epochs = 50\n",
    "all_regrets = []\n",
    "all_payments = []\n",
    "for i in range(n_epochs):\n",
    "    agent = FFMultiplicativePacingAgent(bids_set = available_bids, \n",
    "                                        valuation=my_valuation,\n",
    "                                        budget=B,\n",
    "                                        T=n_users, \n",
    "                                        eta=eta)\n",
    "\n",
    "    auction = FirstPriceAuction(np.ones(n_advertisers+1))\n",
    "    utilities = np.array([])\n",
    "    my_bids = np.array([])\n",
    "    my_payments = np.array([])\n",
    "\n",
    "    np.random.seed(i)\n",
    "    for u in range(n_users):\n",
    "        # interaction\n",
    "        my_bid = agent.bid()\n",
    "        bids = np.append(my_bid, other_bids[:, u].ravel())\n",
    "        winners, payments_per_click = auction.round(bids=bids)\n",
    "        my_win = int(winners==0)\n",
    "        f_t, c_t = (my_valuation-m_t[u])*my_win, m_t[u]*my_win\n",
    "        agent.update(f_t, c_t, m_t[u])\n",
    "        # logging\n",
    "        utilities = np.append(utilities, f_t)\n",
    "        my_payments = np.append(my_payments, c_t)\n",
    "    all_regrets.append(np.cumsum(expected_clairvoyant_utilities-utilities))\n",
    "    all_payments.append(np.cumsum(my_payments))\n",
    "\n",
    "avg_regret = np.array(all_regrets).mean(axis=0)\n",
    "std_regret = np.array(all_regrets).std(axis=0)\n",
    "\n",
    "avg_payments = np.array(all_payments).mean(axis=0)\n",
    "std_payments = np.array(all_payments).std(axis=0)"
   ],
   "outputs": []
  },
  {
   "cell_type": "code",
   "execution_count": 699,
   "metadata": {},
   "source": [
    "plt.plot(np.arange(n_users), avg_payments)\n",
    "plt.fill_between(np.arange(n_users), avg_payments-std_payments, avg_payments+std_payments, alpha=0.3)\n",
    "plt.xlabel('$t$')\n",
    "plt.ylabel('$\\sum c_t$')\n",
    "plt.axhline(B, color='red', label='Budget')\n",
    "plt.legend()\n",
    "plt.title('Cumulative Payments of Multiplicative Pacing')\n",
    "plt.show()"
   ],
   "outputs": []
  },
  {
   "cell_type": "code",
   "execution_count": 700,
   "metadata": {},
   "source": [
    "plt.plot(np.arange(n_users), avg_regret)\n",
    "plt.fill_between(np.arange(n_users), avg_regret-std_regret, avg_regret+std_regret, alpha=0.3)\n",
    "plt.xlabel('$t$')\n",
    "plt.ylabel('$\\sum R_t$')\n",
    "plt.title('Cumulative Regret of Full-Feedback Multiplicative Pacing')\n",
    "plt.show()"
   ],
   "outputs": []
  }
 ],
 "metadata": {
  "kernelspec": {
   "display_name": ".venv",
   "language": "python",
   "name": "python3"
  },
  "language_info": {
   "codemirror_mode": {
    "name": "ipython",
    "version": 3
   },
   "file_extension": ".py",
   "mimetype": "text/x-python",
   "name": "python",
   "nbconvert_exporter": "python",
   "pygments_lexer": "ipython3",
   "version": "3.11.4"
  },
  "orig_nbformat": 4
 },
 "nbformat": 4,
 "nbformat_minor": 2
}
